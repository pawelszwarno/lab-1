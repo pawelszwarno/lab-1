{
 "cells": [
  {
   "cell_type": "markdown",
   "metadata": {
    "slideshow": {
     "slide_type": "notes"
    }
   },
   "source": [
    "# <center>Laboratorium 1<br>Metody Numeryczne</center>"
   ]
  },
  {
   "cell_type": "markdown",
   "metadata": {},
   "source": [
    "Biblioteki niezbędne do wykonania zadania:\n",
    "\n",
    "(wykonanie tego bloku zapewnia do nich dostęp w kolejnych blokach)"
   ]
  },
  {
   "cell_type": "code",
   "execution_count": 2,
   "metadata": {},
   "outputs": [],
   "source": [
    "import main\n",
    "import numpy as np\n",
    "import scipy\n",
    "import pandas as pd"
   ]
  },
  {
   "cell_type": "markdown",
   "metadata": {},
   "source": [
    "Przydatne w trakcie zajęć mogą okazać się metody macierzy z pakietu Numpy, takie jak na przykład długość wektora - *[len]()* czy rozmiar macierzy -\n",
    "*[shape](https://docs.scipy.org/doc/numpy/reference/generated/numpy.ndarray.shape.html#numpy.ndarray.shape)*. Poniższy kod ilustruje ich podstawowe działanie. Dodatkowe metody obiektu $ndarray$ można znaleźć w oficjalnej *[dokumentacji](https://docs.scipy.org/doc/numpy/reference/arrays.ndarray.html)*."
   ]
  },
  {
   "cell_type": "code",
   "execution_count": 3,
   "metadata": {
    "tags": []
   },
   "outputs": [
    {
     "name": "stdout",
     "output_type": "stream",
     "text": [
      "Wektor:\n",
      "[1 2 3]\n",
      "Długość: 3\n",
      "Rozmiar: (3,) \n",
      "\n",
      "Macierz:\n",
      "[[1 2 3]\n",
      " [4 5 6]\n",
      " [7 8 9]]\n",
      "Rozmiar: (3, 3)\n"
     ]
    }
   ],
   "source": [
    "vector = np.array([1, 2, 3])\n",
    "print('Wektor:')\n",
    "print(vector)\n",
    "print('Długość:', len(vector))\n",
    "print('Rozmiar:', vector.shape, '\\n')\n",
    "\n",
    "matrix = np.array([[1, 2, 3], [4, 5, 6], [7, 8, 9]])\n",
    "print('Macierz:')\n",
    "print(matrix)\n",
    "print('Rozmiar:', matrix.shape)\n"
   ]
  },
  {
   "cell_type": "markdown",
   "metadata": {},
   "source": [
    "***Zadanie 1.***  \n",
    "Zaimplementuj funkcję $cylinder\\_area$ tak by zwracała pole powierzchni walca o promieniu podstawy $r$ i wysokości $h$. Stała $\\pi$ jest zdefiniowana np. w bibliotece *[math](https://docs.python.org/3/library/math.html#constants)*. Jeżeli nie da się policzyć pola funkcja powinna zwracać wartość *NaN*. Sprawdź działanie zaimplementowanej funkcji dla dowolnych wartości w tym notatniku."
   ]
  },
  {
   "cell_type": "code",
   "execution_count": 4,
   "metadata": {},
   "outputs": [
    {
     "name": "stdout",
     "output_type": "stream",
     "text": [
      "94.24777960769379 nan\n"
     ]
    }
   ],
   "source": [
    "a = main.cylinder_area(3 , 2) # pole powierzchni walca o promieniu podstawy 3 i wysokości 2\n",
    "b = main.cylinder_area('a', 2) # pole powierzchni walca o błędnych danych wejściowych\n",
    "print(a, b)"
   ]
  },
  {
   "cell_type": "markdown",
   "metadata": {},
   "source": [
    "***Zadanie 2.***  \n",
    "Wygeneruj dowolne ciągi arytmetyczny o kroku różnym od jeden i niebędącym liczbą całkowitą, używając w tym celu funkcji *[arange](https://docs.scipy.org/doc/numpy/reference/generated/numpy.arange.html)* oraz *[linspace](https://docs.scipy.org/doc/numpy-1.10.0/reference/generated/numpy.linspace.html)*. Wypisz go i przeanalizuj otrzymane rezultaty."
   ]
  },
  {
   "cell_type": "code",
   "execution_count": 5,
   "metadata": {},
   "outputs": [
    {
     "name": "stdout",
     "output_type": "stream",
     "text": [
      "[1.  1.5 2.  2.5 3.  3.5 4.  4.5]\n",
      "[0.  0.4 0.8 1.2 1.6 2.  2.4 2.8 3.2 3.6 4. ]\n"
     ]
    }
   ],
   "source": [
    "series1 = np.arange(1.0, 5.0, 0.5) # arange służy do utworzenia listy elementów z zadanym krokiem\n",
    "series2 = np.linspace(0.0, 4.0, 11) # linspace służy do utworzenia listy określonej liczby elementów równo odległych od siebie\n",
    "print(series1)\n",
    "print(series2)\n",
    "# Funkcje linspace oraz arange są przydatne do szybkiego i zwięzłego tworzenia tablic elementów z zadanym krokiem lub równo odległych od siebie\n",
    "# bez konieczności obliczania kroku. "
   ]
  },
  {
   "cell_type": "markdown",
   "metadata": {},
   "source": [
    "***Zadanie 3.***  \n",
    "Zaimplementuj funkcję $fib$ zwracającą wektor pierszych n elementów *[ciągu Fibonnaciego](https://pl.wikipedia.org/wiki/Ci%C4%85g_Fibonacciego)*, jeżeli nie jest to możliwe funkcja powinna zwrócić wartość *None*."
   ]
  },
  {
   "cell_type": "code",
   "execution_count": 6,
   "metadata": {},
   "outputs": [
    {
     "name": "stdout",
     "output_type": "stream",
     "text": [
      "[ 0.  1.  1.  2.  3.  5.  8. 13. 21. 34.] None None\n"
     ]
    }
   ],
   "source": [
    "import pandas as pd \n",
    "fib10 = main.fib(10)\n",
    "fibx = main.fib('x') # sprawdzenie jak funkcja fib reaguje na zły typ danych\n",
    "fib_of_float = main.fib(2.3)  \n",
    "print(fib10, fibx, fib_of_float)"
   ]
  },
  {
   "cell_type": "markdown",
   "metadata": {},
   "source": [
    "***Zadanie 4.***  \n",
    "Napisz funkję $matrix\\_calculations$ która jako argument przyjmuje dowolną wartość liczbową *a* i tworzy macierz:  \n",
    "  \n",
    "$\\mathbf{M} =\\left[ \\begin{matrix}\n",
    "a & 1 & -a\\\\\n",
    "0 & 1 & 1\\\\\n",
    "-a & a & 1\n",
    "\\end{matrix}\\right]\n",
    "$    \n",
    "   \n",
    "Dla zadeklarowanej macierzy wyznacz numerycznie macierz odwrotną $\\mathbf{Minv}$ (jeżeli nie istnieje taka macierz wartość wynosi NaN), macierz transponowaną $\\mathbf{Mt}$ i wyznacznik macierzy $\\mathbf{Mdet}$. Zwróć otrzymane wartości w postaci krotki postaci $(\\mathbf{Minv}, \\mathbf{Mt}, \\mathbf{Mdet})$.  Wypisz otrzymane wyniki. \n",
    "  \n",
    "***Wskazówki:*** Do tworzenia obiektów mających własności macierzy w języku Python używa się klasy *[array](https://docs.scipy.org/doc/numpy-1.15.1/reference/generated/numpy.array.html)* z pakietu *[numpy](http://www.numpy.org/)*, przykładowe użycie:"
   ]
  },
  {
   "cell_type": "code",
   "execution_count": 7,
   "metadata": {
    "scrolled": true,
    "tags": []
   },
   "outputs": [
    {
     "name": "stdout",
     "output_type": "stream",
     "text": [
      "Wektor poziomy:\n",
      " [1 2 3]\n",
      "Wektor pionowy:\n",
      " [[1]\n",
      " [2]\n",
      " [3]]\n",
      "Macierz:\n",
      " [[1 2]\n",
      " [3 4]]\n"
     ]
    }
   ],
   "source": [
    "import numpy as np # słowo kluczowe \"as\" oznacza przesłania nazwę numpy i pozwala  \n",
    "a = np.array([1, 2, 3])\n",
    "b = np.array([[1], [2], [3]])\n",
    "A = np.array([[1,2],[3,4]])\n",
    "print(\"Wektor poziomy:\\n {0}\".format(a))\n",
    "print(\"Wektor pionowy:\\n {0}\".format(b))\n",
    "print(\"Macierz:\\n {0}\".format(A))"
   ]
  },
  {
   "cell_type": "code",
   "execution_count": 8,
   "metadata": {},
   "outputs": [
    {
     "data": {
      "text/plain": [
       "(nan,\n",
       " array([[0, 0, 0],\n",
       "        [1, 1, 0],\n",
       "        [0, 1, 1]]),\n",
       " 0.0)"
      ]
     },
     "execution_count": 8,
     "metadata": {},
     "output_type": "execute_result"
    }
   ],
   "source": [
    "main.matrix_calculations(0) "
   ]
  },
  {
   "cell_type": "markdown",
   "metadata": {},
   "source": [
    "Do wykonania operacji odwracania macierzy należy użyć funkcji *[inv](https://docs.scipy.org/doc/numpy/reference/generated/numpy.linalg.inv.html)*, do obliczenia wyznacznika macierzy stosuje się funkcję *[det](https://docs.scipy.org/doc/numpy-1.15.0/reference/generated/numpy.linalg.det.html)*  z bliblioteki *[linalg](https://docs.scipy.org/doc/numpy/reference/routines.linalg.html)*. Natomiast transpozycję macierzy wykonujemy przez funkcję *[transpose](https://docs.scipy.org/doc/numpy-1.14.0/reference/generated/numpy.transpose.html)* której skrucona wersja to $M.T$ z pakietu *numpy*.  \n",
    "    \n",
    "*Ciekawostka:* Python natywnie nie zawiera struktury danych typu tablica, na poziomie języka jest to rozwiązane poprzez strukturę listy list do której elementów odwołuje się poprzez indeksy jak w C/C++."
   ]
  },
  {
   "cell_type": "markdown",
   "metadata": {},
   "source": [
    "***Zadanie 5.***  \n",
    "Stwórz w noataniku macierz:  \n",
    "$\\mathbf{M} =\\left[ \\begin{matrix}\n",
    "3 & 1 & -2 & 4\\\\\n",
    "0 & 1 & 1 & 5\\\\\n",
    "-2 & 1 & 1 & 6\\\\\n",
    "4 & 3 & 0 & 1\\\\\n",
    "\\end{matrix}\\right]\n",
    "$   \n",
    "Wypisz przy pomocy funkcji *print* następujące elementy macierzy $\\mathbf{M}$: $\\mathbf{M}_{1,1},\\mathbf{M}_{3,3},\\mathbf{M}_{3,2}$. Zdefiniuj wektor $\\mathbf{w1}$ którego elementy to trzecia kolumna macierzy $\\mathbf{M}$ oraz wektor $\\mathbf{w2}$ który składa się z drugiego wiersza tej macierzy.  \n",
    "  \n",
    "***Wskazówki:***\n",
    "Tablice z pakietu *numpy* są indeksowane od zera a do każdego elementu można odwołać się poprzez jego indeks. Przykład użycie\n"
   ]
  },
  {
   "cell_type": "code",
   "execution_count": 9,
   "metadata": {
    "tags": []
   },
   "outputs": [
    {
     "name": "stdout",
     "output_type": "stream",
     "text": [
      "Macierz P=\n",
      "[[1 3 2]\n",
      " [3 4 6]\n",
      " [7 8 9]]\n",
      "Elementy trzeciej kolumny:\n",
      " [2 6 9]\n",
      "Elementy trzeciego wiersza:\n",
      " [7 8 9]\n"
     ]
    }
   ],
   "source": [
    "# Inicjalizacja macierzy do przykładu\n",
    "P = np.array([[1,3,2],[3,4, 6],[7,8,9]])\n",
    "print(\"Macierz P=\\n{0}\".format(P))\n",
    "# wyciągnięcie trzeciej kolumny \n",
    "wektor1 = P[:,2]\n",
    "# wyciągnięcie trzeciego wiersza \n",
    "wektor2 = P[2,:]\n",
    "print(\"Elementy trzeciej kolumny:\\n {0}\".format(wektor1))\n",
    "print(\"Elementy trzeciego wiersza:\\n {0}\".format(wektor2))"
   ]
  },
  {
   "cell_type": "code",
   "execution_count": 15,
   "metadata": {},
   "outputs": [
    {
     "name": "stdout",
     "output_type": "stream",
     "text": [
      "M[1,1] = 3\n",
      "M[3,3] = 1\n",
      "M[3,2] = 1\n",
      "w1 = [-2  1  1  0]\n",
      "w2 = [0 1 1 5]\n"
     ]
    }
   ],
   "source": [
    "M = np.array([[3, 1, -2, 4],[0, 1, 1, 5],[-2, 1, 1, 6],[4, 3, 0 ,1]])\n",
    "w1 = M[:,2]\n",
    "w2 = M[1,:]\n",
    "print(f\"M[1,1] = {M[0,0]}\")\n",
    "print(f\"M[3,3] = {M[2,2]}\")\n",
    "print(f\"M[3,2] = {M[2,1]}\")\n",
    "print(f\"w1 = {w1}\")\n",
    "print(f\"w2 = {w2}\")"
   ]
  },
  {
   "cell_type": "markdown",
   "metadata": {},
   "source": [
    "Dodatkowo twórcy biblioteki umożliwiają użytkownikowi na manipulację elementami tablicy poprzez operator ':', więcej szczegółów na temat jego użycia w artykule [NumPy for Matlab users](https://docs.scipy.org/doc/numpy/user/numpy-for-matlab-users.html#numpy-for-matlab-users)."
   ]
  },
  {
   "cell_type": "markdown",
   "metadata": {},
   "source": [
    "***Zadanie 6.***   \n",
    "Uzupełnij funkcję $custom\\_matrix$, tak by parametry m, n określały wymiary macierzy wynikowej, która\n",
    "będzie wypełniona w/g algorytmu: jeśli indeks wiersza jest większy od indeksu kolumny\n",
    "wartością komórki jest indeks wiersza, w przeciwnym wypadku wartością komórki jest indeks\n",
    "kolumny. Funkcja jako wynik powinna zwracać uzupełnioną macierz, jeżeli nie jest to możliwe to powinna zwrócić *None*. Na koniec wyświetlić wynikową macierz dla dowolnych argumentów $m$, $n$ z przedziału $\\langle3,7\\rangle$.\n",
    "  \n",
    "***Wskazówka:*** Inicjalizacja pustej macierz wykonywana jest w pakiecie Numpy przy pomocy funkcji  *[zeros](https://docs.scipy.org/doc/numpy-1.15.0/reference/generated/numpy.zeros.html)*, zaś macierzy składającej się z jedynek *[ones](https://docs.scipy.org/doc/numpy/reference/generated/numpy.ones.html)*."
   ]
  },
  {
   "cell_type": "code",
   "execution_count": 11,
   "metadata": {
    "tags": []
   },
   "outputs": [
    {
     "name": "stdout",
     "output_type": "stream",
     "text": [
      "zero_matrix: \n",
      "[[0. 0.]\n",
      " [0. 0.]]\n",
      "ones_matrix: \n",
      "[[1.]\n",
      " [1.]\n",
      " [1.]]\n"
     ]
    }
   ],
   "source": [
    "zero_matrix = np.zeros((2, 2))\n",
    "ones_matrix = np.ones((3,1))\n",
    "\n",
    "print('zero_matrix: \\n{}'.format(zero_matrix))\n",
    "print('ones_matrix: \\n{}'.format(ones_matrix))"
   ]
  },
  {
   "cell_type": "code",
   "execution_count": 12,
   "metadata": {},
   "outputs": [
    {
     "data": {
      "text/plain": [
       "array([[0., 1., 2., 3., 4., 5., 6.],\n",
       "       [1., 1., 2., 3., 4., 5., 6.],\n",
       "       [2., 2., 2., 3., 4., 5., 6.],\n",
       "       [3., 3., 3., 3., 4., 5., 6.]])"
      ]
     },
     "execution_count": 12,
     "metadata": {},
     "output_type": "execute_result"
    }
   ],
   "source": [
    "main.custom_matrix(4,7)"
   ]
  },
  {
   "cell_type": "markdown",
   "metadata": {},
   "source": [
    "***Zadanie 7.***\n",
    "\n",
    "Biblioteka Numpy posiada własne metody, pozwalające na szybsze i wygotniejsze wykonywanie operacji na wektorach i macierzach. Kolejne zadania mają na celu przećwiczenie tych metod. Zamiast samemu implementować mnożenie macierzy, należy skorzystać właśnie z wbudowanych funkcji Numpy. Najbardzie podstawowe z nich to *[np.multiply](https://docs.scipy.org/doc/numpy-1.15.0/reference/generated/numpy.multiply.html)*, *[np.dot](https://docs.scipy.org/doc/numpy-1.15.0/reference/generated/numpy.dot.html)* oraz *[np.matmul](https://docs.scipy.org/doc/numpy-1.15.1/reference/generated/numpy.matmul.html)*. Przed wykonaniem zadania należy zapoznać się z ich dokumentacją, aby stosować poprawną funkcję do danego typu mnożenia. Dodatkowo ciekawą i użyteczną funkcjonalnością Numpy, wykorzystywaną niekiedy przy dodawaniu macierzy jest *broadcasting*, proszę o zapoznaie się z opisem:  *[[1]](https://docs.scipy.org/doc/numpy-1.15.0/user/basics.broadcasting.html)* *[[2]](https://www.tutorialspoint.com/numpy/numpy_broadcasting.htm)*.\n",
    "\n",
    "Zainicjalizować dwa wektory $v_1$ i $v_2$:\n",
    "\n",
    "$v_1 = \\begin{bmatrix}1\\\\3\\\\13\\end{bmatrix} \\quad v_2 = \\begin{bmatrix}8\\\\5\\\\-2\\end{bmatrix}$\n",
    "\n",
    "Następnie wykonać operacje i wypisać ich wynik:\n",
    "- $4*v_1$\n",
    "- $-v_2 + \\begin{bmatrix}2\\\\2\\\\2\\end{bmatrix}$\n",
    "- $v_1 \\circ v_2$ (w sensie mnożenia macierzy, tzw. mnożenie macierzy w sensie Cauchy’ego)\n",
    "- $v_1 * v_2$ (w sensie mnożenia Hadamarda (element-wise))\n",
    "\n",
    "***Wskazówki:*** Warto wiedzieć o *[np.dot](https://docs.scipy.org/doc/numpy-1.15.0/reference/generated/numpy.dot.html)* i *[np.multiply](https://docs.scipy.org/doc/numpy-1.15.0/reference/generated/numpy.multiply.html)*. Zbadać jak zachowuje się przeciążony operator mnożenia $*$ oraz $@$ dla macierzy $ndarray$."
   ]
  },
  {
   "cell_type": "code",
   "execution_count": 18,
   "metadata": {},
   "outputs": [
    {
     "name": "stdout",
     "output_type": "stream",
     "text": [
      "4*v1 = [[ 4]\n",
      " [12]\n",
      " [52]]\n",
      "\n",
      "Wynik drugiego działania: \n",
      " [[-6]\n",
      " [-3]\n",
      " [ 4]]\n",
      "v1 o v2 = \n",
      " [[  8   5  -2]\n",
      " [ 24  15  -6]\n",
      " [104  65 -26]]\n",
      "v1 * v2 = \n",
      "[[  8]\n",
      " [ 15]\n",
      " [-26]]\n"
     ]
    }
   ],
   "source": [
    "v1 = np.array([[1],[3],[13]])\n",
    "v2 = np.array([[8],[5],[-2]])\n",
    "print(f\"4*v1 = {4*v1}\\n\") # mnożenie wektora przez skalar\n",
    "print(\"Wynik drugiego działania: \\n {0}\".format(-1*v2 + np.array([[2],[2],[2]])))\n",
    "print(\"v1 o v2 = \\n {0}\".format(v1.dot(np.transpose(v2)))) #  aby mnożenie w sensie Cauchy'ego tych wektorów było możliwe należało transponować v2\n",
    "print(\"v1 * v2 = \\n{0}\".format(np.multiply(v1,v2) ))      # mnożenie element-wise\n"
   ]
  },
  {
   "cell_type": "markdown",
   "metadata": {},
   "source": [
    "***Zadanie 8.***\n",
    "Zainicjalizować macierz $M_1$:\n",
    "\n",
    "$M_1 = \\begin{bmatrix}1&-7&3\\\\-12&3&4\\\\5&13&-3\\end{bmatrix}$\n",
    "\n",
    "Następnie wykonać operacje i wypisać ich wynik:\n",
    "- $3M_1$\n",
    "- $3M_1 + \\begin{bmatrix}1&1&1\\\\1&1&1\\\\1&1&1\\end{bmatrix}$\n",
    "- $M_1^T$\n",
    "- $M_1 \\circ v_1$ \n",
    "- $v_2^T \\circ M_1$"
   ]
  },
  {
   "cell_type": "code",
   "execution_count": 19,
   "metadata": {},
   "outputs": [
    {
     "name": "stdout",
     "output_type": "stream",
     "text": [
      "M1 = \n",
      " [[  1  -7   3]\n",
      " [-12   3   4]\n",
      " [  5  13  -3]]\n",
      "3*M1 = \n",
      "[[  3 -21   9]\n",
      " [-36   9  12]\n",
      " [ 15  39  -9]]\n",
      "Wynik drugiego działania: \n",
      "[[  4. -20.  10.]\n",
      " [-35.  10.  13.]\n",
      " [ 16.  40.  -8.]]\n",
      "M1^T = \n",
      "[[  1 -12   5]\n",
      " [ -7   3  13]\n",
      " [  3   4  -3]]\n",
      "M1 o v1 = \n",
      "[[19]\n",
      " [49]\n",
      " [ 5]]\n",
      "v2^T o M1 = \n",
      "[[-62 -67  50]]\n"
     ]
    }
   ],
   "source": [
    "M1 = np.array([[1,-7,3],[-12,3,4],[5,13,-3]])\n",
    "M2 = 3*M1\n",
    "M3 = 3*M1 + np.ones(3)\n",
    "M4 = np.transpose(M1)\n",
    "M5 = M1.dot(v1)\n",
    "M6 = (np.transpose(v2)).dot(M1)\n",
    "print(f\"M1 = \\n {M1}\")\n",
    "print(f\"3*M1 = \\n{M2}\")\n",
    "print(f\"Wynik drugiego działania: \\n{M3}\")\n",
    "print(f\"M1^T = \\n{M4}\")\n",
    "print(f\"M1 o v1 = \\n{M5}\")\n",
    "print(f\"v2^T o M1 = \\n{M6}\")\n"
   ]
  },
  {
   "cell_type": "markdown",
   "metadata": {},
   "source": [
    "Wnioski:\n",
    "- biblioteka numpy dostarcza wiele przydatnych narzędzi, które są łatwe do nauczenia oraz intuicyjne w użyciu,\n",
    "- numpy.array to typ, który pozwala tworzyć tablice oraz macierze (czyli tablice tablic), których użytkowanie jest podobne do tych w programie Matlab,\n",
    "- numpy.zeros i numpy.ones pozwalają w szybki sposób tworzyć macierze wypełnione zerami lub jedynkami o zadanym rozmiarze, które mogą być wykorzystywane jako szablony do wypełnienia właściwymi wartościami,\n",
    "- numpy.dot pozwala mnożyć macierze i wektory w sensie Cauchy'ego,\n",
    "- numpy.multiply pozwala mnożyć macierze i wektory w sposób element-wise (mnożymy przez siebie odpowiadające sobie elementy),\n",
    "- użycie try: ... except: ... chroni przed wywołaniem funkcji z błędnym typem danych,"
   ]
  },
  {
   "cell_type": "markdown",
   "metadata": {},
   "source": [
    "Materiały uzupełniające:\n",
    "- [Scipy Lecture Notes](http://www.scipy-lectures.org/index.html)\n",
    "- [NumPy for Matlab users](https://docs.scipy.org/doc/numpy/user/numpy-for-matlab-users.html#numpy-for-matlab-users)\n",
    "- [Python Tutorial - W3Schools](https://www.w3schools.com/python/default.asp)\n",
    "- [NumPy](https://www.numpy.org)\n",
    "- [Matplotlib](https://matplotlib.org/)\n",
    "- [Anaconda](https://www.anaconda.com/)\n",
    "- [Learn Python for Data Science](https://www.datacamp.com/learn-python-with-anaconda?utm_source=Anaconda_download&utm_campaign=datacamp_training&utm_medium=banner)\n",
    "- [Learn Python](https://www.learnpython.org/)\n",
    "- [Wujek Google](https://google.pl) i [Ciocia Wikipedia](https://pl.wikipedia.org/wiki/Wikipedia:Strona_g%C5%82%C3%B3wna)"
   ]
  }
 ],
 "metadata": {
  "celltoolbar": "Raw Cell Format",
  "interpreter": {
   "hash": "60f8f12ded0033822500fa40899dfa7fc2fe2a43220a3712bdebc912d3d90511"
  },
  "kernelspec": {
   "display_name": "Python 3.6.8 32-bit",
   "name": "python3"
  },
  "language_info": {
   "codemirror_mode": {
    "name": "ipython",
    "version": 3
   },
   "file_extension": ".py",
   "mimetype": "text/x-python",
   "name": "python",
   "nbconvert_exporter": "python",
   "pygments_lexer": "ipython3",
   "version": "3.6.8"
  }
 },
 "nbformat": 4,
 "nbformat_minor": 2
}
