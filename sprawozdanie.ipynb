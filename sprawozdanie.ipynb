{
 "cells": [
  {
   "cell_type": "markdown",
   "source": [
    "# <center>Laboratorium 1<br>Metody Numeryczne</center>"
   ],
   "metadata": {
    "slideshow": {
     "slide_type": "notes"
    }
   }
  },
  {
   "cell_type": "markdown",
   "source": [
    "Biblioteki niezbędne do wykonania zadania:\n",
    "\n",
    "(wykonanie tego bloku zapewnia do nich dostęp w kolejnych blokach)"
   ],
   "metadata": {}
  },
  {
   "cell_type": "code",
   "execution_count": 1,
   "source": [
    "import main\r\n",
    "import numpy as np\r\n",
    "import scipy\r\n",
    "import pandas as pd"
   ],
   "outputs": [],
   "metadata": {}
  },
  {
   "cell_type": "markdown",
   "source": [
    "Przydatne w trakcie zajęć mogą okazać się metody macierzy z pakietu Numpy, takie jak na przykład długość wektora - *[len]()* czy rozmiar macierzy -\n",
    "*[shape](https://docs.scipy.org/doc/numpy/reference/generated/numpy.ndarray.shape.html#numpy.ndarray.shape)*. Poniższy kod ilustruje ich podstawowe działanie. Dodatkowe metody obiektu $ndarray$ można znaleźć w oficjalnej *[dokumentacji](https://docs.scipy.org/doc/numpy/reference/arrays.ndarray.html)*."
   ],
   "metadata": {}
  },
  {
   "cell_type": "code",
   "execution_count": 2,
   "source": [
    "vector = np.array([1, 2, 3])\r\n",
    "print('Wektor:')\r\n",
    "print(vector)\r\n",
    "print('Długość:', len(vector))\r\n",
    "print('Rozmiar:', vector.shape, '\\n')\r\n",
    "\r\n",
    "matrix = np.array([[1, 2, 3], [4, 5, 6], [7, 8, 9]])\r\n",
    "print('Macierz:')\r\n",
    "print(matrix)\r\n",
    "print('Rozmiar:', matrix.shape)\r\n"
   ],
   "outputs": [
    {
     "output_type": "stream",
     "name": "stdout",
     "text": [
      "Wektor:\n",
      "[1 2 3]\n",
      "Długość: 3\n",
      "Rozmiar: (3,) \n",
      "\n",
      "Macierz:\n",
      "[[1 2 3]\n",
      " [4 5 6]\n",
      " [7 8 9]]\n",
      "Rozmiar: (3, 3)\n"
     ]
    }
   ],
   "metadata": {
    "tags": []
   }
  },
  {
   "cell_type": "markdown",
   "source": [
    "***Zadanie 1.***  \n",
    "Zaimplementuj funkcję $cylinder\\_area$ tak by zwracała pole powierzchni walca o promieniu podstawy $r$ i wysokości $h$. Stała $\\pi$ jest zdefiniowana np. w bibliotece *[math](https://docs.python.org/3/library/math.html#constants)*. Jeżeli nie da się policzyć pola funkcja powinna zwracać wartość *NaN*. Sprawdź działanie zaimplementowanej funkcji dla dowolnych wartości w tym notatniku."
   ],
   "metadata": {}
  },
  {
   "cell_type": "code",
   "execution_count": 3,
   "source": [
    "a = main.cylinder_area(3 , 2) # pole powierzchni walca o promieniu podstawy 3 i wysokości 2\r\n",
    "b = main.cylinder_area('a', 2) # pole powierzchni walca o błędnych danych wejściowych\r\n",
    "print(a, b)"
   ],
   "outputs": [
    {
     "output_type": "stream",
     "name": "stdout",
     "text": [
      "94.24777960769379 nan\n"
     ]
    }
   ],
   "metadata": {}
  },
  {
   "cell_type": "markdown",
   "source": [
    "***Zadanie 2.***  \n",
    "Wygeneruj dowolne ciągi arytmetyczny o kroku różnym od jeden i niebędącym liczbą całkowitą, używając w tym celu funkcji *[arange](https://docs.scipy.org/doc/numpy/reference/generated/numpy.arange.html)* oraz *[linspace](https://docs.scipy.org/doc/numpy-1.10.0/reference/generated/numpy.linspace.html)*. Wypisz go i przeanalizuj otrzymane rezultaty."
   ],
   "metadata": {}
  },
  {
   "cell_type": "code",
   "execution_count": 4,
   "source": [
    "series1 = np.arange(1.0, 5.0, 0.5) # arange służy do utworzenia listy elementów z zadanym krokiem\r\n",
    "series2 = np.linspace(0.0, 4.0, 11) # linspace służy do utworzenia listy określonej liczby elementów równo odległych od siebie\r\n",
    "print(series1)\r\n",
    "print(series2)\r\n",
    "# Funkcje linspace oraz arange są przydatne do szybkiego i zwięzłego tworzenia tablic elementów z zadanym krokiem lub równo odległych od siebie\r\n",
    "# bez konieczności obliczania kroku. "
   ],
   "outputs": [
    {
     "output_type": "stream",
     "name": "stdout",
     "text": [
      "[1.  1.5 2.  2.5 3.  3.5 4.  4.5]\n",
      "[0.  0.4 0.8 1.2 1.6 2.  2.4 2.8 3.2 3.6 4. ]\n"
     ]
    }
   ],
   "metadata": {}
  },
  {
   "cell_type": "markdown",
   "source": [
    "***Zadanie 3.***  \n",
    "Zaimplementuj funkcję $fib$ zwracającą wektor pierszych n elementów *[ciągu Fibonnaciego](https://pl.wikipedia.org/wiki/Ci%C4%85g_Fibonacciego)*, jeżeli nie jest to możliwe funkcja powinna zwrócić wartość *None*."
   ],
   "metadata": {}
  },
  {
   "cell_type": "code",
   "execution_count": 16,
   "source": [
    "import pandas as pd \r\n",
    "fib10 = main.fib(10)\r\n",
    "fibx = main.fib('x')\r\n",
    "fib_of_float = main.fib(2.3)  \r\n",
    "print(fib10, fibx, fib_of_float)"
   ],
   "outputs": [
    {
     "output_type": "stream",
     "name": "stdout",
     "text": [
      "[ 0.  1.  1.  2.  3.  5.  8. 13. 21. 34.] None None\n"
     ]
    }
   ],
   "metadata": {}
  },
  {
   "cell_type": "markdown",
   "source": [
    "***Zadanie 4.***  \n",
    "Napisz funkję $matrix\\_calculations$ która jako argument przyjmuje dowolną wartość liczbową *a* i tworzy macierz:  \n",
    "  \n",
    "$\\mathbf{M} =\\left[ \\begin{matrix}\n",
    "a & 1 & -a\\\\\n",
    "0 & 1 & 1\\\\\n",
    "-a & a & 1\n",
    "\\end{matrix}\\right]\n",
    "$    \n",
    "   \n",
    "Dla zadeklarowanej macierzy wyznacz numerycznie macierz odwrotną $\\mathbf{Minv}$ (jeżeli nie istnieje taka macierz wartość wynosi NaN), macierz transponowaną $\\mathbf{Mt}$ i wyznacznik macierzy $\\mathbf{Mdet}$. Zwróć otrzymane wartości w postaci krotki postaci $(\\mathbf{Minv}, \\mathbf{Mt}, \\mathbf{Mdet})$.  Wypisz otrzymane wyniki. \n",
    "  \n",
    "***Wskazówki:*** Do tworzenia obiektów mających własności macierzy w języku Python używa się klasy *[array](https://docs.scipy.org/doc/numpy-1.15.1/reference/generated/numpy.array.html)* z pakietu *[numpy](http://www.numpy.org/)*, przykładowe użycie:"
   ],
   "metadata": {}
  },
  {
   "cell_type": "code",
   "execution_count": 6,
   "source": [
    "import numpy as np # słowo kluczowe \"as\" oznacza przesłania nazwę numpy i pozwala  \r\n",
    "a = np.array([1, 2, 3])\r\n",
    "b = np.array([[1], [2], [3]])\r\n",
    "A = np.array([[1,2],[3,4]])\r\n",
    "print(\"Wektor poziomy:\\n {0}\".format(a))\r\n",
    "print(\"Wektor pionowy:\\n {0}\".format(b))\r\n",
    "print(\"Macierz:\\n {0}\".format(A))"
   ],
   "outputs": [
    {
     "output_type": "stream",
     "name": "stdout",
     "text": [
      "Wektor poziomy:\n",
      " [1 2 3]\n",
      "Wektor pionowy:\n",
      " [[1]\n",
      " [2]\n",
      " [3]]\n",
      "Macierz:\n",
      " [[1 2]\n",
      " [3 4]]\n"
     ]
    }
   ],
   "metadata": {
    "scrolled": true,
    "tags": []
   }
  },
  {
   "cell_type": "code",
   "execution_count": 7,
   "source": [
    "main.matrix_calculations(0)"
   ],
   "outputs": [
    {
     "output_type": "execute_result",
     "data": {
      "text/plain": [
       "(nan,\n",
       " array([[0, 0, 0],\n",
       "        [1, 1, 0],\n",
       "        [0, 1, 1]]),\n",
       " 0.0)"
      ]
     },
     "metadata": {},
     "execution_count": 7
    }
   ],
   "metadata": {}
  },
  {
   "cell_type": "markdown",
   "source": [
    "Do wykonania operacji odwracania macierzy należy użyć funkcji *[inv](https://docs.scipy.org/doc/numpy/reference/generated/numpy.linalg.inv.html)*, do obliczenia wyznacznika macierzy stosuje się funkcję *[det](https://docs.scipy.org/doc/numpy-1.15.0/reference/generated/numpy.linalg.det.html)*  z bliblioteki *[linalg](https://docs.scipy.org/doc/numpy/reference/routines.linalg.html)*. Natomiast transpozycję macierzy wykonujemy przez funkcję *[transpose](https://docs.scipy.org/doc/numpy-1.14.0/reference/generated/numpy.transpose.html)* której skrucona wersja to $M.T$ z pakietu *numpy*.  \n",
    "    \n",
    "*Ciekawostka:* Python natywnie nie zawiera struktury danych typu tablica, na poziomie języka jest to rozwiązane poprzez strukturę listy list do której elementów odwołuje się poprzez indeksy jak w C/C++."
   ],
   "metadata": {}
  },
  {
   "cell_type": "markdown",
   "source": [
    "***Zadanie 5.***  \n",
    "Stwórz w noataniku macierz:  \n",
    "$\\mathbf{M} =\\left[ \\begin{matrix}\n",
    "3 & 1 & -2 & 4\\\\\n",
    "0 & 1 & 1 & 5\\\\\n",
    "-2 & 1 & 1 & 6\\\\\n",
    "4 & 3 & 0 & 1\\\\\n",
    "\\end{matrix}\\right]\n",
    "$   \n",
    "Wypisz przy pomocy funkcji *print* następujące elementy macierzy $\\mathbf{M}$: $\\mathbf{M}_{1,1},\\mathbf{M}_{3,3},\\mathbf{M}_{3,2}$. Zdefiniuj wektor $\\mathbf{w1}$ którego elementy to trzecia kolumna macierzy $\\mathbf{M}$ oraz wektor $\\mathbf{w2}$ który składa się z drugiego wiersza tej macierzy.  \n",
    "  \n",
    "***Wskazówki:***\n",
    "Tablice z pakietu *numpy* są indeksowane od zera a do każdego elementu można odwołać się poprzez jego indeks. Przykład użycie\n"
   ],
   "metadata": {}
  },
  {
   "cell_type": "code",
   "execution_count": 8,
   "source": [
    "# Inicjalizacja macierzy do przykładu\r\n",
    "P = np.array([[1,3,2],[3,4, 6],[7,8,9]])\r\n",
    "print(\"Macierz P=\\n{0}\".format(P))\r\n",
    "# wyciągnięcie trzeciej kolumny \r\n",
    "wektor1 = P[:,2]\r\n",
    "# wyciągnięcie trzeciego wiersza \r\n",
    "wektor2 = P[2,:]\r\n",
    "print(\"Elementy trzeciej kolumny:\\n {0}\".format(wektor1))\r\n",
    "print(\"Elementy trzeciego wiersza:\\n {0}\".format(wektor2))"
   ],
   "outputs": [
    {
     "output_type": "stream",
     "name": "stdout",
     "text": [
      "Macierz P=\n",
      "[[1 3 2]\n",
      " [3 4 6]\n",
      " [7 8 9]]\n",
      "Elementy trzeciej kolumny:\n",
      " [2 6 9]\n",
      "Elementy trzeciego wiersza:\n",
      " [7 8 9]\n"
     ]
    }
   ],
   "metadata": {
    "tags": []
   }
  },
  {
   "cell_type": "code",
   "execution_count": 9,
   "source": [
    "M = np.array([[3, 1, -2, 4],[0, 1, 1, 5],[-2, 1, 1, 6],[4, 3, 0 ,1]])\r\n",
    "print(\"M[1,1] = \", M[0,0])\r\n",
    "print(\"M[3,3] = \", M[2,2])\r\n",
    "print(\"M[3,2] = \", M[2,1])\r\n",
    "w1 = M[:,2]\r\n",
    "w2 = M[1,:]"
   ],
   "outputs": [
    {
     "output_type": "stream",
     "name": "stdout",
     "text": [
      "M[1,1] =  3\n",
      "M[3,3] =  1\n",
      "M[3,2] =  1\n"
     ]
    }
   ],
   "metadata": {}
  },
  {
   "cell_type": "markdown",
   "source": [
    "Dodatkowo twórcy biblioteki umożliwiają użytkownikowi na manipulację elementami tablicy poprzez operator ':', więcej szczegółów na temat jego użycia w artykule [NumPy for Matlab users](https://docs.scipy.org/doc/numpy/user/numpy-for-matlab-users.html#numpy-for-matlab-users)."
   ],
   "metadata": {}
  },
  {
   "cell_type": "markdown",
   "source": [
    "***Zadanie 6.***   \n",
    "Uzupełnij funkcję $custom\\_matrix$, tak by parametry m, n określały wymiary macierzy wynikowej, która\n",
    "będzie wypełniona w/g algorytmu: jeśli indeks wiersza jest większy od indeksu kolumny\n",
    "wartością komórki jest indeks wiersza, w przeciwnym wypadku wartością komórki jest indeks\n",
    "kolumny. Funkcja jako wynik powinna zwracać uzupełnioną macierz, jeżeli nie jest to możliwe to powinna zwrócić *None*. Na koniec wyświetlić wynikową macierz dla dowolnych argumentów $m$, $n$ z przedziału $\\langle3,7\\rangle$.\n",
    "  \n",
    "***Wskazówka:*** Inicjalizacja pustej macierz wykonywana jest w pakiecie Numpy przy pomocy funkcji  *[zeros](https://docs.scipy.org/doc/numpy-1.15.0/reference/generated/numpy.zeros.html)*, zaś macierzy składającej się z jedynek *[ones](https://docs.scipy.org/doc/numpy/reference/generated/numpy.ones.html)*."
   ],
   "metadata": {}
  },
  {
   "cell_type": "code",
   "execution_count": 10,
   "source": [
    "zero_matrix = np.zeros((2, 2))\r\n",
    "ones_matrix = np.ones((3,1))\r\n",
    "\r\n",
    "print('zero_matrix: \\n{}'.format(zero_matrix))\r\n",
    "print('ones_matrix: \\n{}'.format(ones_matrix))"
   ],
   "outputs": [
    {
     "output_type": "stream",
     "name": "stdout",
     "text": [
      "zero_matrix: \n",
      "[[0. 0.]\n",
      " [0. 0.]]\n",
      "ones_matrix: \n",
      "[[1.]\n",
      " [1.]\n",
      " [1.]]\n"
     ]
    }
   ],
   "metadata": {
    "tags": []
   }
  },
  {
   "cell_type": "code",
   "execution_count": 11,
   "source": [
    "main.custom_matrix(4,7)"
   ],
   "outputs": [
    {
     "output_type": "execute_result",
     "data": {
      "text/plain": [
       "array([[0., 1., 2., 3., 4., 5., 6.],\n",
       "       [1., 1., 2., 3., 4., 5., 6.],\n",
       "       [2., 2., 2., 3., 4., 5., 6.],\n",
       "       [3., 3., 3., 3., 4., 5., 6.]])"
      ]
     },
     "metadata": {},
     "execution_count": 11
    }
   ],
   "metadata": {}
  },
  {
   "cell_type": "markdown",
   "source": [
    "***Zadanie 7.***\r\n",
    "\r\n",
    "Biblioteka Numpy posiada własne metody, pozwalające na szybsze i wygotniejsze wykonywanie operacji na wektorach i macierzach. Kolejne zadania mają na celu przećwiczenie tych metod. Zamiast samemu implementować mnożenie macierzy, należy skorzystać właśnie z wbudowanych funkcji Numpy. Najbardzie podstawowe z nich to *[np.multiply](https://docs.scipy.org/doc/numpy-1.15.0/reference/generated/numpy.multiply.html)*, *[np.dot](https://docs.scipy.org/doc/numpy-1.15.0/reference/generated/numpy.dot.html)* oraz *[np.matmul](https://docs.scipy.org/doc/numpy-1.15.1/reference/generated/numpy.matmul.html)*. Przed wykonaniem zadania należy zapoznać się z ich dokumentacją, aby stosować poprawną funkcję do danego typu mnożenia. Dodatkowo ciekawą i użyteczną funkcjonalnością Numpy, wykorzystywaną niekiedy przy dodawaniu macierzy jest *broadcasting*, proszę o zapoznaie się z opisem:  *[[1]](https://docs.scipy.org/doc/numpy-1.15.0/user/basics.broadcasting.html)* *[[2]](https://www.tutorialspoint.com/numpy/numpy_broadcasting.htm)*.\r\n",
    "\r\n",
    "Zainicjalizować dwa wektory $v_1$ i $v_2$:\r\n",
    "\r\n",
    "$v_1 = \\begin{bmatrix}1\\\\3\\\\13\\end{bmatrix} \\quad v_2 = \\begin{bmatrix}8\\\\5\\\\-2\\end{bmatrix}$\r\n",
    "\r\n",
    "Następnie wykonać operacje i wypisać ich wynik:\r\n",
    "- $4*v_1$\r\n",
    "- $-v_2 + \\begin{bmatrix}2\\\\2\\\\2\\end{bmatrix}$\r\n",
    "- $v_1 \\circ v_2$ (w sensie mnożenia macierzy, tzw. mnożenie macierzy w sensie Cauchy’ego)\r\n",
    "- $v_1 * v_2$ (w sensie mnożenia Hadamarda (element-wise))\r\n",
    "\r\n",
    "***Wskazówki:*** Warto wiedzieć o *[np.dot](https://docs.scipy.org/doc/numpy-1.15.0/reference/generated/numpy.dot.html)* i *[np.multiply](https://docs.scipy.org/doc/numpy-1.15.0/reference/generated/numpy.multiply.html)*. Zbadać jak zachowuje się przeciążony operator mnożenia $*$ oraz $@$ dla macierzy $ndarray$."
   ],
   "metadata": {}
  },
  {
   "cell_type": "code",
   "execution_count": 12,
   "source": [
    "v1 = np.array([[1],[3],[13]])\r\n",
    "v2 = np.array([[8],[5],[-2]])\r\n",
    "print(\"4*v1 = \\n\",4*v1) # mnożenie wektora przez skalar\r\n",
    "print(\"Wynik drugiego działania: \\n\", -1*v2 + np.array([[2],[2],[2]]))\r\n",
    "print(\"v1 o v2 = \\n\",v1.dot(np.transpose(v2))) #  aby mnożenie w sensie Cauchy'ego tych wektorów było możliwe należało transponować v2\r\n",
    "print(\"v1 * v2 = \\n\",np.multiply(v1,v2) )      # mnożenie element-wise\r\n"
   ],
   "outputs": [
    {
     "output_type": "stream",
     "name": "stdout",
     "text": [
      "4*v1 = \n",
      " [[ 4]\n",
      " [12]\n",
      " [52]]\n",
      "Wynik drugiego działania: \n",
      " [[-6]\n",
      " [-3]\n",
      " [ 4]]\n",
      "v1 o v2 = \n",
      " [[  8   5  -2]\n",
      " [ 24  15  -6]\n",
      " [104  65 -26]]\n",
      "v1 * v2 = \n",
      " [[  8]\n",
      " [ 15]\n",
      " [-26]]\n"
     ]
    }
   ],
   "metadata": {}
  },
  {
   "cell_type": "markdown",
   "source": [
    "***Zadanie 8.***\n",
    "Zainicjalizować macierz $M_1$:\n",
    "\n",
    "$M_1 = \\begin{bmatrix}1&-7&3\\\\-12&3&4\\\\5&13&-3\\end{bmatrix}$\n",
    "\n",
    "Następnie wykonać operacje i wypisać ich wynik:\n",
    "- $3M_1$\n",
    "- $3M_1 + \\begin{bmatrix}1&1&1\\\\1&1&1\\\\1&1&1\\end{bmatrix}$\n",
    "- $M_1^T$\n",
    "- $M_1 \\circ v_1$ \n",
    "- $v_2^T \\circ M_1$"
   ],
   "metadata": {}
  },
  {
   "cell_type": "code",
   "execution_count": 13,
   "source": [
    "M1 = np.array([[1,-7,3],[-12,3,4],[5,13,-3]])\r\n",
    "M2 = 3*M1\r\n",
    "M3 = 3*M1 + np.ones(3)\r\n",
    "M4 = np.transpose(M1)\r\n",
    "M5 = M1.dot(v1)\r\n",
    "M6 = (np.transpose(v2)).dot(M1)\r\n",
    "print(\"M1 = \\n\",M1)\r\n",
    "print(\"3*M1 = \\n\", M2)\r\n",
    "print(\"Wynik drugiego działania: \\n\", M3)\r\n",
    "print(\"M1^T = \\n\",M4)\r\n",
    "print(\"M1 o v1 = \\n\", M5)\r\n",
    "print(\"v2^T o M1 = \\n\", M6)\r\n"
   ],
   "outputs": [
    {
     "output_type": "stream",
     "name": "stdout",
     "text": [
      "M1 = \n",
      " [[  1  -7   3]\n",
      " [-12   3   4]\n",
      " [  5  13  -3]]\n",
      "3*M1 = \n",
      " [[  3 -21   9]\n",
      " [-36   9  12]\n",
      " [ 15  39  -9]]\n",
      "Wynik drugiego działania: \n",
      " [[  4. -20.  10.]\n",
      " [-35.  10.  13.]\n",
      " [ 16.  40.  -8.]]\n",
      "M1^T = \n",
      " [[  1 -12   5]\n",
      " [ -7   3  13]\n",
      " [  3   4  -3]]\n",
      "M1 o v1 = \n",
      " [[19]\n",
      " [49]\n",
      " [ 5]]\n",
      "v2^T o M1 = \n",
      " [[-62 -67  50]]\n"
     ]
    }
   ],
   "metadata": {}
  },
  {
   "cell_type": "markdown",
   "source": [
    "Materiały uzupełniające:\n",
    "- [Scipy Lecture Notes](http://www.scipy-lectures.org/index.html)\n",
    "- [NumPy for Matlab users](https://docs.scipy.org/doc/numpy/user/numpy-for-matlab-users.html#numpy-for-matlab-users)\n",
    "- [Python Tutorial - W3Schools](https://www.w3schools.com/python/default.asp)\n",
    "- [NumPy](https://www.numpy.org)\n",
    "- [Matplotlib](https://matplotlib.org/)\n",
    "- [Anaconda](https://www.anaconda.com/)\n",
    "- [Learn Python for Data Science](https://www.datacamp.com/learn-python-with-anaconda?utm_source=Anaconda_download&utm_campaign=datacamp_training&utm_medium=banner)\n",
    "- [Learn Python](https://www.learnpython.org/)\n",
    "- [Wujek Google](https://google.pl) i [Ciocia Wikipedia](https://pl.wikipedia.org/wiki/Wikipedia:Strona_g%C5%82%C3%B3wna)"
   ],
   "metadata": {}
  }
 ],
 "metadata": {
  "celltoolbar": "Raw Cell Format",
  "kernelspec": {
   "name": "python3",
   "display_name": "Python 3.6.8 32-bit"
  },
  "language_info": {
   "codemirror_mode": {
    "name": "ipython",
    "version": 3
   },
   "file_extension": ".py",
   "mimetype": "text/x-python",
   "name": "python",
   "nbconvert_exporter": "python",
   "pygments_lexer": "ipython3",
   "version": "3.6.8"
  },
  "interpreter": {
   "hash": "60f8f12ded0033822500fa40899dfa7fc2fe2a43220a3712bdebc912d3d90511"
  }
 },
 "nbformat": 4,
 "nbformat_minor": 2
}